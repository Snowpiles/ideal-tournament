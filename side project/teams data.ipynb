{
 "cells": [
  {
   "cell_type": "code",
   "execution_count": 2,
   "id": "3c1b0e4b",
   "metadata": {},
   "outputs": [],
   "source": [
    "import pandas as pd"
   ]
  },
  {
   "cell_type": "code",
   "execution_count": 2,
   "id": "d7a65f26",
   "metadata": {},
   "outputs": [
    {
     "data": {
      "text/plain": [
       "[                             0                           1   2\n",
       " 0                      Ranking                     Ranking NaN\n",
       " 1             Coaches (active)            Coaches (active) NaN\n",
       " 2   Games (Results - Fixtures)  Games (Results - Fixtures) NaN\n",
       " 3                       Europe                      Europe NaN\n",
       " 4               UCL (16 teams)                       ⌀1861 NaN\n",
       " ..                         ...                         ...  ..\n",
       " 88                       Wales                       Wales NaN\n",
       " 89                  Montenegro                  Montenegro NaN\n",
       " 90                   Gibraltar                   Gibraltar NaN\n",
       " 91                     Andorra                     Andorra NaN\n",
       " 92                  San Marino                  San Marino NaN\n",
       " \n",
       " [93 rows x 3 columns],\n",
       "      Rank                   Club   Elo Unnamed: 3  Last Match  Coach\n",
       " 0       1             1 Man City  2051        NaN  2024-02-05    NaN\n",
       " 1       2          2 Real Madrid  1972        NaN  2024-02-04    NaN\n",
       " 2       3               3 Bayern  1954        NaN  2024-02-03    NaN\n",
       " 3       4                4 Inter  1950        NaN  2024-02-04    NaN\n",
       " 4       5            5 Liverpool  1947        NaN  2024-02-04    NaN\n",
       " ..    ...                    ...   ...        ...         ...    ...\n",
       " 626   627            FCB Magpies   860        NaN  2023-07-20    NaN\n",
       " 627   628  Atletic Club Escaldes   846        NaN  2023-08-01    NaN\n",
       " 628   629                 Cosmos   697        NaN  2023-07-20    NaN\n",
       " 629   630              Tre Penne   686        NaN  2023-08-01    NaN\n",
       " 630   631             La Fiorita   666        NaN  2023-07-20    NaN\n",
       " \n",
       " [631 rows x 6 columns]]"
      ]
     },
     "execution_count": 2,
     "metadata": {},
     "output_type": "execute_result"
    }
   ],
   "source": [
    "teams = pd.read_html('http://clubelo.com/Ranking')\n",
    "teams"
   ]
  },
  {
   "cell_type": "code",
   "execution_count": 3,
   "id": "527707e3",
   "metadata": {},
   "outputs": [],
   "source": [
    "leagues = teams[0]\n",
    "teams = teams[1]"
   ]
  },
  {
   "cell_type": "code",
   "execution_count": 5,
   "id": "45df8688",
   "metadata": {},
   "outputs": [],
   "source": [
    "import requests\n",
    "from bs4 import BeautifulSoup"
   ]
  },
  {
   "cell_type": "code",
   "execution_count": 6,
   "id": "97eb903e",
   "metadata": {},
   "outputs": [],
   "source": [
    "link = 'http://clubelo.com/Ranking'\n",
    "page = requests.get(link)\n",
    "soup = BeautifulSoup(page.text, 'lxml')\n",
    "tables = soup.find_all('table')"
   ]
  },
  {
   "cell_type": "code",
   "execution_count": 12,
   "id": "4852e75c",
   "metadata": {},
   "outputs": [
    {
     "data": {
      "text/plain": [
       "'ENG'"
      ]
     },
     "execution_count": 12,
     "metadata": {},
     "output_type": "execute_result"
    }
   ],
   "source": [
    "tables[1].find_all('img')[0]['alt']"
   ]
  },
  {
   "cell_type": "code",
   "execution_count": 15,
   "id": "5462c43a",
   "metadata": {},
   "outputs": [
    {
     "data": {
      "text/plain": [
       "631"
      ]
     },
     "execution_count": 15,
     "metadata": {},
     "output_type": "execute_result"
    }
   ],
   "source": [
    "countries = [img['alt'] for img in tables[1].find_all('img')]\n",
    "len(countries)"
   ]
  },
  {
   "cell_type": "code",
   "execution_count": null,
   "id": "63c81b0d",
   "metadata": {},
   "outputs": [],
   "source": [
    "teams['Country'] = countries"
   ]
  },
  {
   "cell_type": "code",
   "execution_count": 18,
   "id": "4db956f3",
   "metadata": {},
   "outputs": [],
   "source": [
    "teams[['Club','Elo','Country']].to_csv('teams_data.csv', index=False)"
   ]
  },
  {
   "cell_type": "code",
   "execution_count": 11,
   "id": "d971403b",
   "metadata": {},
   "outputs": [],
   "source": [
    "teams_data = pd.read_csv('teams_data.csv')"
   ]
  },
  {
   "cell_type": "code",
   "execution_count": null,
   "id": "1eccbdf6",
   "metadata": {},
   "outputs": [],
   "source": []
  },
  {
   "cell_type": "code",
   "execution_count": 12,
   "id": "1fabd784",
   "metadata": {},
   "outputs": [],
   "source": [
    "countries = teams_data['Country'].unique()"
   ]
  },
  {
   "cell_type": "code",
   "execution_count": 13,
   "id": "ed960639",
   "metadata": {},
   "outputs": [
    {
     "data": {
      "text/plain": [
       "array(['ENG', 'ESP', 'GER', 'ITA', 'FRA', 'NED', 'POR', 'BEL', 'TUR',\n",
       "       'CZE', 'AUT', 'RUS', 'SCO', 'DEN', 'UKR', 'SUI', 'NOR', 'ISR',\n",
       "       'GRE', 'AZE', 'POL', 'SRB', 'BUL', 'CRO', 'CYP', 'HUN', 'ROM',\n",
       "       'MOL', 'SWE', 'SVN', 'SLK', 'KAZ', 'LIE', 'FIN', 'BHZ', 'LAT',\n",
       "       'ARM', 'BLR', 'ISL', 'MAC', 'LIT', 'KOS', 'ALB', 'GEO', 'IRL',\n",
       "       'FAR', 'MLT', 'EST', 'NIR', 'LUX', 'WAL', 'MNT', 'GIB', 'AND',\n",
       "       'SMR'], dtype=object)"
      ]
     },
     "execution_count": 13,
     "metadata": {},
     "output_type": "execute_result"
    }
   ],
   "source": [
    "countries"
   ]
  },
  {
   "cell_type": "code",
   "execution_count": null,
   "id": "f09c8b59",
   "metadata": {},
   "outputs": [],
   "source": [
    "german_teams = pd.read_html('http://www.elofootball.com/country.php?countryiso=GER&season=2023-2024')"
   ]
  },
  {
   "cell_type": "code",
   "execution_count": 15,
   "id": "ed25a130",
   "metadata": {},
   "outputs": [],
   "source": [
    "from time import sleep"
   ]
  },
  {
   "cell_type": "code",
   "execution_count": 23,
   "id": "6f6f8b83",
   "metadata": {},
   "outputs": [
    {
     "name": "stdout",
     "output_type": "stream",
     "text": [
      "DEU in database\n",
      "NLD in database\n",
      "PRT in database\n",
      "DNK in database\n",
      "CHE in database\n",
      "GRC in database\n",
      "BGR in database\n",
      "HRV in database\n",
      "ROU in database\n",
      "MDA in database\n",
      "SVK in database\n",
      "BIH in database\n",
      "LVA in database\n",
      "MKD in database\n",
      "LTU in database\n",
      "FRO in database\n",
      "WLS in database\n",
      "MNE in database\n"
     ]
    }
   ],
   "source": [
    "# teams_by_country = []\n",
    "# successes = []\n",
    "# fails = []\n",
    "\n",
    "for country in fails_sub:\n",
    "    sleep(5)\n",
    "    link = f'http://www.elofootball.com/country.php?countryiso={country}&season=2023-2024'\n",
    "    try:\n",
    "        teams = pd.read_html(link)[2][['Club','Rating']]\n",
    "        teams_by_country.append(teams)\n",
    "        successes.append(country)\n",
    "        print(country, 'in database')\n",
    "    except:\n",
    "        fails.append(country)\n",
    "        print(country, 'failed')"
   ]
  },
  {
   "cell_type": "code",
   "execution_count": 17,
   "id": "f1633cda",
   "metadata": {},
   "outputs": [],
   "source": [
    "fails_sub = ['DEU','NLD','PRT','DNK','CHE','GRC','BGR','HRV','ROU','MDA','SVK','BIH','LVA','MKD','LTU','FRO','WLS','MNE']\n",
    "#btw why the hell is swiss che\n",
    "#liechtenstein is not in the database, the acrual teams are in the swiss league system"
   ]
  },
  {
   "cell_type": "code",
   "execution_count": 18,
   "id": "5f27756c",
   "metadata": {},
   "outputs": [],
   "source": [
    "successes = []\n",
    "for country in countries:\n",
    "    if country not in fails:\n",
    "        successes.append(country)"
   ]
  },
  {
   "cell_type": "code",
   "execution_count": 36,
   "id": "2808c29d",
   "metadata": {},
   "outputs": [
    {
     "name": "stdout",
     "output_type": "stream",
     "text": [
      "125\n",
      "66\n",
      "45\n",
      "77\n",
      "43\n",
      "47\n",
      "40\n",
      "41\n",
      "45\n",
      "20\n",
      "56\n",
      "25\n",
      "13\n",
      "54\n",
      "28\n",
      "22\n",
      "30\n",
      "44\n",
      "22\n",
      "17\n",
      "40\n",
      "14\n",
      "18\n",
      "33\n",
      "13\n",
      "25\n",
      "20\n",
      "20\n",
      "17\n",
      "13\n",
      "22\n",
      "34\n",
      "11\n",
      "12\n",
      "16\n",
      "168\n",
      "64\n",
      "56\n",
      "45\n",
      "33\n",
      "55\n",
      "29\n",
      "17\n",
      "25\n",
      "13\n",
      "20\n",
      "27\n",
      "11\n",
      "20\n",
      "12\n",
      "15\n",
      "28\n",
      "17\n"
     ]
    }
   ],
   "source": [
    "for table in teams_by_country:\n",
    "    print(len(table))"
   ]
  },
  {
   "cell_type": "code",
   "execution_count": null,
   "id": "f6b8456c",
   "metadata": {},
   "outputs": [],
   "source": [
    "manual_approach = ['RUS']"
   ]
  },
  {
   "cell_type": "code",
   "execution_count": 47,
   "id": "41dca53b",
   "metadata": {},
   "outputs": [],
   "source": [
    "successes[39] = 'SUI'"
   ]
  },
  {
   "cell_type": "code",
   "execution_count": 48,
   "id": "9579ae56",
   "metadata": {},
   "outputs": [],
   "source": [
    "teams_by_country2 = []\n",
    "for table, country in zip(teams_by_country, successes):\n",
    "    country_col = [country] * len(table)\n",
    "    table['Country'] = country_col\n",
    "    table = table.rename(columns = {'Rating': 'Elo'})\n",
    "    teams_by_country2.append(table)"
   ]
  },
  {
   "cell_type": "code",
   "execution_count": 49,
   "id": "94523db7",
   "metadata": {},
   "outputs": [
    {
     "data": {
      "text/html": [
       "<div>\n",
       "<style scoped>\n",
       "    .dataframe tbody tr th:only-of-type {\n",
       "        vertical-align: middle;\n",
       "    }\n",
       "\n",
       "    .dataframe tbody tr th {\n",
       "        vertical-align: top;\n",
       "    }\n",
       "\n",
       "    .dataframe thead th {\n",
       "        text-align: right;\n",
       "    }\n",
       "</style>\n",
       "<table border=\"1\" class=\"dataframe\">\n",
       "  <thead>\n",
       "    <tr style=\"text-align: right;\">\n",
       "      <th></th>\n",
       "      <th>Club</th>\n",
       "      <th>Elo</th>\n",
       "      <th>Country</th>\n",
       "    </tr>\n",
       "  </thead>\n",
       "  <tbody>\n",
       "    <tr>\n",
       "      <th>0</th>\n",
       "      <td>Manchester City</td>\n",
       "      <td>2386</td>\n",
       "      <td>ENG</td>\n",
       "    </tr>\n",
       "    <tr>\n",
       "      <th>1</th>\n",
       "      <td>Real Madrid</td>\n",
       "      <td>2335</td>\n",
       "      <td>ESP</td>\n",
       "    </tr>\n",
       "    <tr>\n",
       "      <th>2</th>\n",
       "      <td>Inter</td>\n",
       "      <td>2314</td>\n",
       "      <td>ITA</td>\n",
       "    </tr>\n",
       "    <tr>\n",
       "      <th>3</th>\n",
       "      <td>Liverpool FC</td>\n",
       "      <td>2266</td>\n",
       "      <td>ENG</td>\n",
       "    </tr>\n",
       "    <tr>\n",
       "      <th>4</th>\n",
       "      <td>Arsenal FC</td>\n",
       "      <td>2232</td>\n",
       "      <td>ENG</td>\n",
       "    </tr>\n",
       "    <tr>\n",
       "      <th>...</th>\n",
       "      <td>...</td>\n",
       "      <td>...</td>\n",
       "      <td>...</td>\n",
       "    </tr>\n",
       "    <tr>\n",
       "      <th>1818</th>\n",
       "      <td>College 1975 FC</td>\n",
       "      <td>496</td>\n",
       "      <td>GIB</td>\n",
       "    </tr>\n",
       "    <tr>\n",
       "      <th>1819</th>\n",
       "      <td>CF Atlètic Amèrica</td>\n",
       "      <td>482</td>\n",
       "      <td>AND</td>\n",
       "    </tr>\n",
       "    <tr>\n",
       "      <th>1820</th>\n",
       "      <td>San Marino Academy</td>\n",
       "      <td>401</td>\n",
       "      <td>SMR</td>\n",
       "    </tr>\n",
       "    <tr>\n",
       "      <th>1821</th>\n",
       "      <td>SS Pennarossa</td>\n",
       "      <td>376</td>\n",
       "      <td>SMR</td>\n",
       "    </tr>\n",
       "    <tr>\n",
       "      <th>1822</th>\n",
       "      <td>SP Cailungo</td>\n",
       "      <td>362</td>\n",
       "      <td>SMR</td>\n",
       "    </tr>\n",
       "  </tbody>\n",
       "</table>\n",
       "<p>1823 rows × 3 columns</p>\n",
       "</div>"
      ],
      "text/plain": [
       "                    Club   Elo Country\n",
       "0        Manchester City  2386     ENG\n",
       "1            Real Madrid  2335     ESP\n",
       "2                  Inter  2314     ITA\n",
       "3           Liverpool FC  2266     ENG\n",
       "4             Arsenal FC  2232     ENG\n",
       "...                  ...   ...     ...\n",
       "1818     College 1975 FC   496     GIB\n",
       "1819  CF Atlètic Amèrica   482     AND\n",
       "1820  San Marino Academy   401     SMR\n",
       "1821       SS Pennarossa   376     SMR\n",
       "1822         SP Cailungo   362     SMR\n",
       "\n",
       "[1823 rows x 3 columns]"
      ]
     },
     "execution_count": 49,
     "metadata": {},
     "output_type": "execute_result"
    }
   ],
   "source": [
    "teams_data2 = pd.concat(teams_by_country2).sort_values('Elo', ascending = False).reset_index(drop = True)\n",
    "teams_data2"
   ]
  },
  {
   "cell_type": "code",
   "execution_count": 93,
   "id": "f26dc068",
   "metadata": {},
   "outputs": [
    {
     "data": {
      "text/html": [
       "<div>\n",
       "<style scoped>\n",
       "    .dataframe tbody tr th:only-of-type {\n",
       "        vertical-align: middle;\n",
       "    }\n",
       "\n",
       "    .dataframe tbody tr th {\n",
       "        vertical-align: top;\n",
       "    }\n",
       "\n",
       "    .dataframe thead th {\n",
       "        text-align: right;\n",
       "    }\n",
       "</style>\n",
       "<table border=\"1\" class=\"dataframe\">\n",
       "  <thead>\n",
       "    <tr style=\"text-align: right;\">\n",
       "      <th></th>\n",
       "      <th>Club</th>\n",
       "      <th>Elo</th>\n",
       "      <th>Country</th>\n",
       "    </tr>\n",
       "  </thead>\n",
       "  <tbody>\n",
       "    <tr>\n",
       "      <th>5</th>\n",
       "      <td>Bayer Leverkusen</td>\n",
       "      <td>2222</td>\n",
       "      <td>DEU</td>\n",
       "    </tr>\n",
       "    <tr>\n",
       "      <th>6</th>\n",
       "      <td>Bayern München</td>\n",
       "      <td>2221</td>\n",
       "      <td>DEU</td>\n",
       "    </tr>\n",
       "    <tr>\n",
       "      <th>9</th>\n",
       "      <td>Borussia Dortmund</td>\n",
       "      <td>2159</td>\n",
       "      <td>DEU</td>\n",
       "    </tr>\n",
       "    <tr>\n",
       "      <th>12</th>\n",
       "      <td>RB Leipzig</td>\n",
       "      <td>2142</td>\n",
       "      <td>DEU</td>\n",
       "    </tr>\n",
       "    <tr>\n",
       "      <th>29</th>\n",
       "      <td>VfB Stuttgart</td>\n",
       "      <td>2059</td>\n",
       "      <td>DEU</td>\n",
       "    </tr>\n",
       "    <tr>\n",
       "      <th>...</th>\n",
       "      <td>...</td>\n",
       "      <td>...</td>\n",
       "      <td>...</td>\n",
       "    </tr>\n",
       "    <tr>\n",
       "      <th>1691</th>\n",
       "      <td>FC Oberneuland</td>\n",
       "      <td>989</td>\n",
       "      <td>DEU</td>\n",
       "    </tr>\n",
       "    <tr>\n",
       "      <th>1693</th>\n",
       "      <td>SV Schalding-Heining</td>\n",
       "      <td>983</td>\n",
       "      <td>DEU</td>\n",
       "    </tr>\n",
       "    <tr>\n",
       "      <th>1704</th>\n",
       "      <td>SV Heimstetten</td>\n",
       "      <td>973</td>\n",
       "      <td>DEU</td>\n",
       "    </tr>\n",
       "    <tr>\n",
       "      <th>1716</th>\n",
       "      <td>FC Memmingen</td>\n",
       "      <td>959</td>\n",
       "      <td>DEU</td>\n",
       "    </tr>\n",
       "    <tr>\n",
       "      <th>1735</th>\n",
       "      <td>FC Pipinsried</td>\n",
       "      <td>935</td>\n",
       "      <td>DEU</td>\n",
       "    </tr>\n",
       "  </tbody>\n",
       "</table>\n",
       "<p>168 rows × 3 columns</p>\n",
       "</div>"
      ],
      "text/plain": [
       "                      Club   Elo Country\n",
       "5         Bayer Leverkusen  2222     DEU\n",
       "6           Bayern München  2221     DEU\n",
       "9        Borussia Dortmund  2159     DEU\n",
       "12              RB Leipzig  2142     DEU\n",
       "29           VfB Stuttgart  2059     DEU\n",
       "...                    ...   ...     ...\n",
       "1691        FC Oberneuland   989     DEU\n",
       "1693  SV Schalding-Heining   983     DEU\n",
       "1704        SV Heimstetten   973     DEU\n",
       "1716          FC Memmingen   959     DEU\n",
       "1735         FC Pipinsried   935     DEU\n",
       "\n",
       "[168 rows x 3 columns]"
      ]
     },
     "execution_count": 93,
     "metadata": {},
     "output_type": "execute_result"
    }
   ],
   "source": [
    "teams_data2[teams_data2.Country == 'DEU']"
   ]
  },
  {
   "cell_type": "code",
   "execution_count": 50,
   "id": "a3627134",
   "metadata": {},
   "outputs": [],
   "source": [
    "teams_data2.to_csv('teams_data2.csv', index = False)"
   ]
  },
  {
   "cell_type": "code",
   "execution_count": 51,
   "id": "3e422cb9",
   "metadata": {},
   "outputs": [],
   "source": [
    "country_elo = {}\n",
    "country_teams = {}\n",
    "\n",
    "for table in teams_by_country2:\n",
    "    top_teams = table[:10]\n",
    "    country = table['Country'][0]\n",
    "    mean = top_teams['Elo'].mean()\n",
    "    country_elo[country] = mean\n",
    "    country_teams[country] = len(table)\n",
    " "
   ]
  },
  {
   "cell_type": "code",
   "execution_count": 53,
   "id": "067053d7",
   "metadata": {
    "scrolled": true
   },
   "outputs": [
    {
     "data": {
      "text/html": [
       "<div>\n",
       "<style scoped>\n",
       "    .dataframe tbody tr th:only-of-type {\n",
       "        vertical-align: middle;\n",
       "    }\n",
       "\n",
       "    .dataframe tbody tr th {\n",
       "        vertical-align: top;\n",
       "    }\n",
       "\n",
       "    .dataframe thead th {\n",
       "        text-align: right;\n",
       "    }\n",
       "</style>\n",
       "<table border=\"1\" class=\"dataframe\">\n",
       "  <thead>\n",
       "    <tr style=\"text-align: right;\">\n",
       "      <th></th>\n",
       "      <th>Elo</th>\n",
       "      <th>Teams</th>\n",
       "    </tr>\n",
       "  </thead>\n",
       "  <tbody>\n",
       "    <tr>\n",
       "      <th>ENG</th>\n",
       "      <td>2144.6</td>\n",
       "      <td>125</td>\n",
       "    </tr>\n",
       "    <tr>\n",
       "      <th>ESP</th>\n",
       "      <td>2095.0</td>\n",
       "      <td>66</td>\n",
       "    </tr>\n",
       "    <tr>\n",
       "      <th>ITA</th>\n",
       "      <td>2081.9</td>\n",
       "      <td>45</td>\n",
       "    </tr>\n",
       "    <tr>\n",
       "      <th>DEU</th>\n",
       "      <td>2055.6</td>\n",
       "      <td>168</td>\n",
       "    </tr>\n",
       "    <tr>\n",
       "      <th>FRA</th>\n",
       "      <td>2003.5</td>\n",
       "      <td>77</td>\n",
       "    </tr>\n",
       "    <tr>\n",
       "      <th>PRT</th>\n",
       "      <td>1890.7</td>\n",
       "      <td>56</td>\n",
       "    </tr>\n",
       "    <tr>\n",
       "      <th>BEL</th>\n",
       "      <td>1859.4</td>\n",
       "      <td>43</td>\n",
       "    </tr>\n",
       "    <tr>\n",
       "      <th>NLD</th>\n",
       "      <td>1844.7</td>\n",
       "      <td>64</td>\n",
       "    </tr>\n",
       "    <tr>\n",
       "      <th>CZE</th>\n",
       "      <td>1814.8</td>\n",
       "      <td>40</td>\n",
       "    </tr>\n",
       "    <tr>\n",
       "      <th>TUR</th>\n",
       "      <td>1807.1</td>\n",
       "      <td>47</td>\n",
       "    </tr>\n",
       "    <tr>\n",
       "      <th>GRC</th>\n",
       "      <td>1771.7</td>\n",
       "      <td>55</td>\n",
       "    </tr>\n",
       "    <tr>\n",
       "      <th>DNK</th>\n",
       "      <td>1769.2</td>\n",
       "      <td>45</td>\n",
       "    </tr>\n",
       "    <tr>\n",
       "      <th>SUI</th>\n",
       "      <td>1760.1</td>\n",
       "      <td>33</td>\n",
       "    </tr>\n",
       "    <tr>\n",
       "      <th>NOR</th>\n",
       "      <td>1739.1</td>\n",
       "      <td>56</td>\n",
       "    </tr>\n",
       "    <tr>\n",
       "      <th>AUT</th>\n",
       "      <td>1735.2</td>\n",
       "      <td>41</td>\n",
       "    </tr>\n",
       "    <tr>\n",
       "      <th>SWE</th>\n",
       "      <td>1734.2</td>\n",
       "      <td>44</td>\n",
       "    </tr>\n",
       "    <tr>\n",
       "      <th>POL</th>\n",
       "      <td>1730.3</td>\n",
       "      <td>54</td>\n",
       "    </tr>\n",
       "    <tr>\n",
       "      <th>ROU</th>\n",
       "      <td>1718.9</td>\n",
       "      <td>25</td>\n",
       "    </tr>\n",
       "    <tr>\n",
       "      <th>UKR</th>\n",
       "      <td>1707.8</td>\n",
       "      <td>20</td>\n",
       "    </tr>\n",
       "    <tr>\n",
       "      <th>HUN</th>\n",
       "      <td>1701.6</td>\n",
       "      <td>30</td>\n",
       "    </tr>\n",
       "    <tr>\n",
       "      <th>BGR</th>\n",
       "      <td>1699.4</td>\n",
       "      <td>29</td>\n",
       "    </tr>\n",
       "    <tr>\n",
       "      <th>SCO</th>\n",
       "      <td>1692.2</td>\n",
       "      <td>45</td>\n",
       "    </tr>\n",
       "    <tr>\n",
       "      <th>HRV</th>\n",
       "      <td>1666.9</td>\n",
       "      <td>17</td>\n",
       "    </tr>\n",
       "    <tr>\n",
       "      <th>ISR</th>\n",
       "      <td>1645.7</td>\n",
       "      <td>25</td>\n",
       "    </tr>\n",
       "    <tr>\n",
       "      <th>SRB</th>\n",
       "      <td>1596.1</td>\n",
       "      <td>28</td>\n",
       "    </tr>\n",
       "    <tr>\n",
       "      <th>SVK</th>\n",
       "      <td>1590.0</td>\n",
       "      <td>20</td>\n",
       "    </tr>\n",
       "    <tr>\n",
       "      <th>CYP</th>\n",
       "      <td>1587.3</td>\n",
       "      <td>22</td>\n",
       "    </tr>\n",
       "    <tr>\n",
       "      <th>SVN</th>\n",
       "      <td>1538.1</td>\n",
       "      <td>22</td>\n",
       "    </tr>\n",
       "    <tr>\n",
       "      <th>BLR</th>\n",
       "      <td>1534.7</td>\n",
       "      <td>18</td>\n",
       "    </tr>\n",
       "    <tr>\n",
       "      <th>FIN</th>\n",
       "      <td>1526.1</td>\n",
       "      <td>40</td>\n",
       "    </tr>\n",
       "    <tr>\n",
       "      <th>BIH</th>\n",
       "      <td>1484.4</td>\n",
       "      <td>27</td>\n",
       "    </tr>\n",
       "    <tr>\n",
       "      <th>AZE</th>\n",
       "      <td>1478.4</td>\n",
       "      <td>13</td>\n",
       "    </tr>\n",
       "    <tr>\n",
       "      <th>KAZ</th>\n",
       "      <td>1470.5</td>\n",
       "      <td>17</td>\n",
       "    </tr>\n",
       "    <tr>\n",
       "      <th>IRL</th>\n",
       "      <td>1422.2</td>\n",
       "      <td>20</td>\n",
       "    </tr>\n",
       "    <tr>\n",
       "      <th>ISL</th>\n",
       "      <td>1422.0</td>\n",
       "      <td>33</td>\n",
       "    </tr>\n",
       "    <tr>\n",
       "      <th>GEO</th>\n",
       "      <td>1392.8</td>\n",
       "      <td>20</td>\n",
       "    </tr>\n",
       "    <tr>\n",
       "      <th>MKD</th>\n",
       "      <td>1386.0</td>\n",
       "      <td>20</td>\n",
       "    </tr>\n",
       "    <tr>\n",
       "      <th>ALB</th>\n",
       "      <td>1374.6</td>\n",
       "      <td>25</td>\n",
       "    </tr>\n",
       "    <tr>\n",
       "      <th>NIR</th>\n",
       "      <td>1298.0</td>\n",
       "      <td>22</td>\n",
       "    </tr>\n",
       "    <tr>\n",
       "      <th>MDA</th>\n",
       "      <td>1293.5</td>\n",
       "      <td>13</td>\n",
       "    </tr>\n",
       "    <tr>\n",
       "      <th>LUX</th>\n",
       "      <td>1288.7</td>\n",
       "      <td>34</td>\n",
       "    </tr>\n",
       "    <tr>\n",
       "      <th>MNE</th>\n",
       "      <td>1285.2</td>\n",
       "      <td>17</td>\n",
       "    </tr>\n",
       "    <tr>\n",
       "      <th>KOS</th>\n",
       "      <td>1283.2</td>\n",
       "      <td>13</td>\n",
       "    </tr>\n",
       "    <tr>\n",
       "      <th>ARM</th>\n",
       "      <td>1267.4</td>\n",
       "      <td>14</td>\n",
       "    </tr>\n",
       "    <tr>\n",
       "      <th>MLT</th>\n",
       "      <td>1232.5</td>\n",
       "      <td>17</td>\n",
       "    </tr>\n",
       "    <tr>\n",
       "      <th>LTU</th>\n",
       "      <td>1225.6</td>\n",
       "      <td>12</td>\n",
       "    </tr>\n",
       "    <tr>\n",
       "      <th>LVA</th>\n",
       "      <td>1191.0</td>\n",
       "      <td>11</td>\n",
       "    </tr>\n",
       "    <tr>\n",
       "      <th>WLS</th>\n",
       "      <td>1180.4</td>\n",
       "      <td>28</td>\n",
       "    </tr>\n",
       "    <tr>\n",
       "      <th>FRO</th>\n",
       "      <td>1096.8</td>\n",
       "      <td>15</td>\n",
       "    </tr>\n",
       "    <tr>\n",
       "      <th>EST</th>\n",
       "      <td>911.4</td>\n",
       "      <td>13</td>\n",
       "    </tr>\n",
       "    <tr>\n",
       "      <th>GIB</th>\n",
       "      <td>908.2</td>\n",
       "      <td>11</td>\n",
       "    </tr>\n",
       "    <tr>\n",
       "      <th>AND</th>\n",
       "      <td>779.1</td>\n",
       "      <td>12</td>\n",
       "    </tr>\n",
       "    <tr>\n",
       "      <th>SMR</th>\n",
       "      <td>744.0</td>\n",
       "      <td>16</td>\n",
       "    </tr>\n",
       "  </tbody>\n",
       "</table>\n",
       "</div>"
      ],
      "text/plain": [
       "        Elo  Teams\n",
       "ENG  2144.6    125\n",
       "ESP  2095.0     66\n",
       "ITA  2081.9     45\n",
       "DEU  2055.6    168\n",
       "FRA  2003.5     77\n",
       "PRT  1890.7     56\n",
       "BEL  1859.4     43\n",
       "NLD  1844.7     64\n",
       "CZE  1814.8     40\n",
       "TUR  1807.1     47\n",
       "GRC  1771.7     55\n",
       "DNK  1769.2     45\n",
       "SUI  1760.1     33\n",
       "NOR  1739.1     56\n",
       "AUT  1735.2     41\n",
       "SWE  1734.2     44\n",
       "POL  1730.3     54\n",
       "ROU  1718.9     25\n",
       "UKR  1707.8     20\n",
       "HUN  1701.6     30\n",
       "BGR  1699.4     29\n",
       "SCO  1692.2     45\n",
       "HRV  1666.9     17\n",
       "ISR  1645.7     25\n",
       "SRB  1596.1     28\n",
       "SVK  1590.0     20\n",
       "CYP  1587.3     22\n",
       "SVN  1538.1     22\n",
       "BLR  1534.7     18\n",
       "FIN  1526.1     40\n",
       "BIH  1484.4     27\n",
       "AZE  1478.4     13\n",
       "KAZ  1470.5     17\n",
       "IRL  1422.2     20\n",
       "ISL  1422.0     33\n",
       "GEO  1392.8     20\n",
       "MKD  1386.0     20\n",
       "ALB  1374.6     25\n",
       "NIR  1298.0     22\n",
       "MDA  1293.5     13\n",
       "LUX  1288.7     34\n",
       "MNE  1285.2     17\n",
       "KOS  1283.2     13\n",
       "ARM  1267.4     14\n",
       "MLT  1232.5     17\n",
       "LTU  1225.6     12\n",
       "LVA  1191.0     11\n",
       "WLS  1180.4     28\n",
       "FRO  1096.8     15\n",
       "EST   911.4     13\n",
       "GIB   908.2     11\n",
       "AND   779.1     12\n",
       "SMR   744.0     16"
      ]
     },
     "execution_count": 53,
     "metadata": {},
     "output_type": "execute_result"
    }
   ],
   "source": [
    "country_data = pd.DataFrame({'Elo': country_elo, 'Teams': country_teams}).sort_values('Elo', ascending = False)\n",
    "country_data"
   ]
  },
  {
   "cell_type": "code",
   "execution_count": 72,
   "id": "ba4f1e57",
   "metadata": {},
   "outputs": [],
   "source": [
    "allocation = [10]*5 + [6]*10 + [4]*15 + [2] * 23"
   ]
  },
  {
   "cell_type": "code",
   "execution_count": 73,
   "id": "e1fc0059",
   "metadata": {},
   "outputs": [],
   "source": [
    "country_data['Allocation'] = allocation"
   ]
  },
  {
   "cell_type": "code",
   "execution_count": 75,
   "id": "e98903a0",
   "metadata": {},
   "outputs": [
    {
     "data": {
      "text/plain": [
       "{'ENG': 10,\n",
       " 'ESP': 10,\n",
       " 'ITA': 10,\n",
       " 'DEU': 10,\n",
       " 'FRA': 10,\n",
       " 'PRT': 6,\n",
       " 'BEL': 6,\n",
       " 'NLD': 6,\n",
       " 'CZE': 6,\n",
       " 'TUR': 6,\n",
       " 'GRC': 6,\n",
       " 'DNK': 6,\n",
       " 'SUI': 6,\n",
       " 'NOR': 6,\n",
       " 'AUT': 6,\n",
       " 'SWE': 4,\n",
       " 'POL': 4,\n",
       " 'ROU': 4,\n",
       " 'UKR': 4,\n",
       " 'HUN': 4,\n",
       " 'BGR': 4,\n",
       " 'SCO': 4,\n",
       " 'HRV': 4,\n",
       " 'ISR': 4,\n",
       " 'SRB': 4,\n",
       " 'SVK': 4,\n",
       " 'CYP': 4,\n",
       " 'SVN': 4,\n",
       " 'BLR': 4,\n",
       " 'FIN': 4,\n",
       " 'BIH': 2,\n",
       " 'AZE': 2,\n",
       " 'KAZ': 2,\n",
       " 'IRL': 2,\n",
       " 'ISL': 2,\n",
       " 'GEO': 2,\n",
       " 'MKD': 2,\n",
       " 'ALB': 2,\n",
       " 'NIR': 2,\n",
       " 'MDA': 2,\n",
       " 'LUX': 2,\n",
       " 'MNE': 2,\n",
       " 'KOS': 2,\n",
       " 'ARM': 2,\n",
       " 'MLT': 2,\n",
       " 'LTU': 2,\n",
       " 'LVA': 2,\n",
       " 'WLS': 2,\n",
       " 'FRO': 2,\n",
       " 'EST': 2,\n",
       " 'GIB': 2,\n",
       " 'AND': 2,\n",
       " 'SMR': 2}"
      ]
     },
     "execution_count": 75,
     "metadata": {},
     "output_type": "execute_result"
    }
   ],
   "source": [
    "country_data.Allocation.to_dict()"
   ]
  },
  {
   "cell_type": "code",
   "execution_count": 76,
   "id": "b3cce047",
   "metadata": {},
   "outputs": [],
   "source": [
    "country_data.to_csv('country_data.csv')"
   ]
  },
  {
   "cell_type": "code",
   "execution_count": 63,
   "id": "eb79d609",
   "metadata": {},
   "outputs": [
    {
     "data": {
      "text/plain": [
       "<Axes: >"
      ]
     },
     "execution_count": 63,
     "metadata": {},
     "output_type": "execute_result"
    },
    {
     "data": {
      "image/png": "[encoded data removed]",
      "text/plain": [
       "<Figure size 2000x1000 with 1 Axes>"
      ]
     },
     "metadata": {},
     "output_type": "display_data"
    }
   ],
   "source": [
    "country_data.plot.bar(y = 'Elo', figsize = (20,10))"
   ]
  },
  {
   "cell_type": "code",
   "execution_count": 85,
   "id": "0e266742",
   "metadata": {},
   "outputs": [
    {
     "ename": "TypeError",
     "evalue": "cannot unpack non-iterable int object",
     "output_type": "error",
     "traceback": [
      "\u001b[1;31m---------------------------------------------------------------------------\u001b[0m",
      "\u001b[1;31mTypeError\u001b[0m                                 Traceback (most recent call last)",
      "Cell \u001b[1;32mIn[85], line 1\u001b[0m\n\u001b[1;32m----> 1\u001b[0m [i \u001b[38;5;28;01mfor\u001b[39;00m i,x \u001b[38;5;129;01min\u001b[39;00m country_data\u001b[38;5;241m.\u001b[39mAllocation \u001b[38;5;28;01mif\u001b[39;00m x \u001b[38;5;241m==\u001b[39m \u001b[38;5;241m6\u001b[39m]\n",
      "Cell \u001b[1;32mIn[85], line 1\u001b[0m, in \u001b[0;36m<listcomp>\u001b[1;34m(.0)\u001b[0m\n\u001b[1;32m----> 1\u001b[0m [i \u001b[38;5;28;01mfor\u001b[39;00m i,x \u001b[38;5;129;01min\u001b[39;00m country_data\u001b[38;5;241m.\u001b[39mAllocation \u001b[38;5;28;01mif\u001b[39;00m x \u001b[38;5;241m==\u001b[39m \u001b[38;5;241m6\u001b[39m]\n",
      "\u001b[1;31mTypeError\u001b[0m: cannot unpack non-iterable int object"
     ]
    }
   ],
   "source": [
    "[i for i,x in country_data.Allocation if x == 6]"
   ]
  },
  {
   "cell_type": "code",
   "execution_count": 89,
   "id": "6ef23f19",
   "metadata": {},
   "outputs": [
    {
     "data": {
      "text/plain": [
       "6"
      ]
     },
     "execution_count": 89,
     "metadata": {},
     "output_type": "execute_result"
    }
   ],
   "source": [
    "country_data.Allocation['PRT']"
   ]
  },
  {
   "cell_type": "code",
   "execution_count": 91,
   "id": "0fa066a1",
   "metadata": {},
   "outputs": [
    {
     "data": {
      "text/plain": [
       "0"
      ]
     },
     "execution_count": 91,
     "metadata": {},
     "output_type": "execute_result"
    }
   ],
   "source": [
    "allocation.count(5)"
   ]
  }
 ],
 "metadata": {
  "kernelspec": {
   "display_name": "Python 3 (ipykernel)",
   "language": "python",
   "name": "python3"
  },
  "language_info": {
   "codemirror_mode": {
    "name": "ipython",
    "version": 3
   },
   "file_extension": ".py",
   "mimetype": "text/x-python",
   "name": "python",
   "nbconvert_exporter": "python",
   "pygments_lexer": "ipython3",
   "version": "3.12.4"
  }
 },
 "nbformat": 4,
 "nbformat_minor": 5
}
