{
 "cells": [
  {
   "cell_type": "code",
   "execution_count": 1,
   "id": "b2a0deb5",
   "metadata": {},
   "outputs": [],
   "source": [
    "import networkx as nx"
   ]
  },
  {
   "cell_type": "markdown",
   "id": "65c675e8",
   "metadata": {},
   "source": [
    "Nodes"
   ]
  },
  {
   "cell_type": "code",
   "execution_count": 5,
   "id": "598847b2",
   "metadata": {},
   "outputs": [],
   "source": [
    "G = nx.Graph()"
   ]
  },
  {
   "cell_type": "code",
   "execution_count": 6,
   "id": "971d289a",
   "metadata": {},
   "outputs": [],
   "source": [
    "G.add_node(1)"
   ]
  },
  {
   "cell_type": "code",
   "execution_count": 7,
   "id": "8e1849ac",
   "metadata": {},
   "outputs": [],
   "source": [
    "G.add_nodes_from([2,3])"
   ]
  },
  {
   "cell_type": "code",
   "execution_count": 8,
   "id": "47fc06ab",
   "metadata": {},
   "outputs": [],
   "source": [
    "G.add_nodes_from([\n",
    "    (4, {\"color\": \"red\"}),\n",
    "    (5, {\"color\": \"green\"}),\n",
    "])"
   ]
  },
  {
   "cell_type": "code",
   "execution_count": 9,
   "id": "688e66e5",
   "metadata": {},
   "outputs": [],
   "source": [
    "H = nx.path_graph(10)"
   ]
  },
  {
   "cell_type": "code",
   "execution_count": 10,
   "id": "6d81cb54",
   "metadata": {},
   "outputs": [],
   "source": [
    "G.add_nodes_from(H)"
   ]
  },
  {
   "cell_type": "code",
   "execution_count": 11,
   "id": "269224a5",
   "metadata": {},
   "outputs": [
    {
     "data": {
      "text/plain": [
       "<networkx.classes.graph.Graph at 0x27989603050>"
      ]
     },
     "execution_count": 11,
     "metadata": {},
     "output_type": "execute_result"
    }
   ],
   "source": [
    "G"
   ]
  },
  {
   "cell_type": "markdown",
   "id": "f922fc99",
   "metadata": {},
   "source": [
    "Edges"
   ]
  },
  {
   "cell_type": "code",
   "execution_count": 12,
   "id": "c88ad277",
   "metadata": {},
   "outputs": [],
   "source": [
    "G.add_edge(1,2)"
   ]
  },
  {
   "cell_type": "code",
   "execution_count": 13,
   "id": "37c81640",
   "metadata": {},
   "outputs": [],
   "source": [
    "e = (2,3)\n",
    "G.add_edge(*e)"
   ]
  },
  {
   "cell_type": "code",
   "execution_count": 14,
   "id": "1abefd05",
   "metadata": {},
   "outputs": [],
   "source": [
    "G.add_edges_from([(1,2),(1,3)])"
   ]
  },
  {
   "cell_type": "code",
   "execution_count": 15,
   "id": "228b71d0",
   "metadata": {},
   "outputs": [],
   "source": [
    "G.add_edges_from(H.edges)"
   ]
  },
  {
   "cell_type": "code",
   "execution_count": 16,
   "id": "290ee3fd",
   "metadata": {},
   "outputs": [],
   "source": [
    "G.clear()"
   ]
  },
  {
   "cell_type": "code",
   "execution_count": 17,
   "id": "19020f05",
   "metadata": {},
   "outputs": [],
   "source": [
    "G.add_edges_from([(1, 2), (1, 3)])\n",
    "G.add_node(1)\n",
    "G.add_edge(1, 2)\n",
    "G.add_node(\"spam\")        # adds node \"spam\"\n",
    "G.add_nodes_from(\"spam\")  # adds 4 nodes: 's', 'p', 'a', 'm'\n",
    "G.add_edge(3, 'm')"
   ]
  },
  {
   "cell_type": "code",
   "execution_count": 19,
   "id": "d2d73aa3",
   "metadata": {},
   "outputs": [
    {
     "data": {
      "text/plain": [
       "8"
      ]
     },
     "execution_count": 19,
     "metadata": {},
     "output_type": "execute_result"
    }
   ],
   "source": [
    "G.number_of_nodes()"
   ]
  },
  {
   "cell_type": "code",
   "execution_count": 20,
   "id": "a5a9b472",
   "metadata": {},
   "outputs": [
    {
     "data": {
      "text/plain": [
       "3"
      ]
     },
     "execution_count": 20,
     "metadata": {},
     "output_type": "execute_result"
    }
   ],
   "source": [
    "G.number_of_edges()"
   ]
  },
  {
   "cell_type": "code",
   "execution_count": 21,
   "id": "197ad30f",
   "metadata": {},
   "outputs": [
    {
     "data": {
      "text/plain": [
       "NodeView((1, 2, 3, 'spam', 's', 'p', 'a', 'm'))"
      ]
     },
     "execution_count": 21,
     "metadata": {},
     "output_type": "execute_result"
    }
   ],
   "source": [
    "G.nodes"
   ]
  },
  {
   "cell_type": "code",
   "execution_count": 22,
   "id": "9e555c60",
   "metadata": {},
   "outputs": [
    {
     "data": {
      "text/plain": [
       "EdgeView([(1, 2), (1, 3), (3, 'm')])"
      ]
     },
     "execution_count": 22,
     "metadata": {},
     "output_type": "execute_result"
    }
   ],
   "source": [
    "G.edges"
   ]
  },
  {
   "cell_type": "code",
   "execution_count": 26,
   "id": "ad746de3",
   "metadata": {},
   "outputs": [
    {
     "data": {
      "text/plain": [
       "[2, 3]"
      ]
     },
     "execution_count": 26,
     "metadata": {},
     "output_type": "execute_result"
    }
   ],
   "source": [
    "list(G.neighbors(1))"
   ]
  },
  {
   "cell_type": "code",
   "execution_count": 27,
   "id": "2d9872b1",
   "metadata": {},
   "outputs": [
    {
     "data": {
      "text/plain": [
       "2"
      ]
     },
     "execution_count": 27,
     "metadata": {},
     "output_type": "execute_result"
    }
   ],
   "source": [
    "G.degree[1]"
   ]
  },
  {
   "cell_type": "code",
   "execution_count": 28,
   "id": "3f1aae10",
   "metadata": {},
   "outputs": [
    {
     "data": {
      "text/plain": [
       "EdgeDataView([(2, 1), ('m', 3)])"
      ]
     },
     "execution_count": 28,
     "metadata": {},
     "output_type": "execute_result"
    }
   ],
   "source": [
    "G.edges([2,'m'])"
   ]
  },
  {
   "cell_type": "code",
   "execution_count": 29,
   "id": "14f9c5fa",
   "metadata": {},
   "outputs": [
    {
     "data": {
      "text/plain": [
       "DegreeView({2: 1, 3: 2})"
      ]
     },
     "execution_count": 29,
     "metadata": {},
     "output_type": "execute_result"
    }
   ],
   "source": [
    "G.degree([2,3])"
   ]
  },
  {
   "cell_type": "code",
   "execution_count": 30,
   "id": "a9340492",
   "metadata": {},
   "outputs": [],
   "source": [
    "G.add_edge(7,10)"
   ]
  },
  {
   "cell_type": "code",
   "execution_count": 32,
   "id": "075bc65c",
   "metadata": {},
   "outputs": [
    {
     "data": {
      "text/plain": [
       "NodeView((1, 2, 3, 'spam', 's', 'p', 'a', 'm', 7, 10))"
      ]
     },
     "execution_count": 32,
     "metadata": {},
     "output_type": "execute_result"
    }
   ],
   "source": [
    "G.nodes"
   ]
  },
  {
   "cell_type": "code",
   "execution_count": null,
   "id": "cf21db08",
   "metadata": {},
   "outputs": [],
   "source": [
    "import pandas as pd"
   ]
  },
  {
   "cell_type": "code",
   "execution_count": 34,
   "id": "bf558c59",
   "metadata": {},
   "outputs": [
    {
     "data": {
      "text/html": [
       "<div>\n",
       "<style scoped>\n",
       "    .dataframe tbody tr th:only-of-type {\n",
       "        vertical-align: middle;\n",
       "    }\n",
       "\n",
       "    .dataframe tbody tr th {\n",
       "        vertical-align: top;\n",
       "    }\n",
       "\n",
       "    .dataframe thead th {\n",
       "        text-align: right;\n",
       "    }\n",
       "</style>\n",
       "<table border=\"1\" class=\"dataframe\">\n",
       "  <thead>\n",
       "    <tr style=\"text-align: right;\">\n",
       "      <th></th>\n",
       "      <th>Club</th>\n",
       "      <th>Elo</th>\n",
       "    </tr>\n",
       "  </thead>\n",
       "  <tbody>\n",
       "    <tr>\n",
       "      <th>0</th>\n",
       "      <td>1 Man City</td>\n",
       "      <td>2047</td>\n",
       "    </tr>\n",
       "    <tr>\n",
       "      <th>1</th>\n",
       "      <td>2 Real Madrid</td>\n",
       "      <td>1972</td>\n",
       "    </tr>\n",
       "    <tr>\n",
       "      <th>2</th>\n",
       "      <td>3 Liverpool</td>\n",
       "      <td>1957</td>\n",
       "    </tr>\n",
       "    <tr>\n",
       "      <th>3</th>\n",
       "      <td>4 Bayern</td>\n",
       "      <td>1952</td>\n",
       "    </tr>\n",
       "    <tr>\n",
       "      <th>4</th>\n",
       "      <td>5 Inter</td>\n",
       "      <td>1945</td>\n",
       "    </tr>\n",
       "    <tr>\n",
       "      <th>...</th>\n",
       "      <td>...</td>\n",
       "      <td>...</td>\n",
       "    </tr>\n",
       "    <tr>\n",
       "      <th>626</th>\n",
       "      <td>FCB Magpies</td>\n",
       "      <td>860</td>\n",
       "    </tr>\n",
       "    <tr>\n",
       "      <th>627</th>\n",
       "      <td>Atletic Club Escaldes</td>\n",
       "      <td>846</td>\n",
       "    </tr>\n",
       "    <tr>\n",
       "      <th>628</th>\n",
       "      <td>Cosmos</td>\n",
       "      <td>697</td>\n",
       "    </tr>\n",
       "    <tr>\n",
       "      <th>629</th>\n",
       "      <td>Tre Penne</td>\n",
       "      <td>686</td>\n",
       "    </tr>\n",
       "    <tr>\n",
       "      <th>630</th>\n",
       "      <td>La Fiorita</td>\n",
       "      <td>666</td>\n",
       "    </tr>\n",
       "  </tbody>\n",
       "</table>\n",
       "<p>631 rows × 2 columns</p>\n",
       "</div>"
      ],
      "text/plain": [
       "                      Club   Elo\n",
       "0               1 Man City  2047\n",
       "1            2 Real Madrid  1972\n",
       "2              3 Liverpool  1957\n",
       "3                 4 Bayern  1952\n",
       "4                  5 Inter  1945\n",
       "..                     ...   ...\n",
       "626            FCB Magpies   860\n",
       "627  Atletic Club Escaldes   846\n",
       "628                 Cosmos   697\n",
       "629              Tre Penne   686\n",
       "630             La Fiorita   666\n",
       "\n",
       "[631 rows x 2 columns]"
      ]
     },
     "execution_count": 34,
     "metadata": {},
     "output_type": "execute_result"
    }
   ],
   "source": [
    "data = pd.read_csv('teams_data.csv')\n",
    "data"
   ]
  },
  {
   "cell_type": "code",
   "execution_count": 37,
   "id": "93891b04",
   "metadata": {},
   "outputs": [],
   "source": [
    "sample = data.sample(20).reset_index(drop=True)"
   ]
  },
  {
   "cell_type": "code",
   "execution_count": 38,
   "id": "7c3d6b94",
   "metadata": {},
   "outputs": [
    {
     "data": {
      "text/html": [
       "<div>\n",
       "<style scoped>\n",
       "    .dataframe tbody tr th:only-of-type {\n",
       "        vertical-align: middle;\n",
       "    }\n",
       "\n",
       "    .dataframe tbody tr th {\n",
       "        vertical-align: top;\n",
       "    }\n",
       "\n",
       "    .dataframe thead th {\n",
       "        text-align: right;\n",
       "    }\n",
       "</style>\n",
       "<table border=\"1\" class=\"dataframe\">\n",
       "  <thead>\n",
       "    <tr style=\"text-align: right;\">\n",
       "      <th></th>\n",
       "      <th>Club</th>\n",
       "      <th>Elo</th>\n",
       "    </tr>\n",
       "  </thead>\n",
       "  <tbody>\n",
       "    <tr>\n",
       "      <th>0</th>\n",
       "      <td>Cartagena</td>\n",
       "      <td>1463</td>\n",
       "    </tr>\n",
       "    <tr>\n",
       "      <th>1</th>\n",
       "      <td>Ajaccio</td>\n",
       "      <td>1432</td>\n",
       "    </tr>\n",
       "    <tr>\n",
       "      <th>2</th>\n",
       "      <td>Osijek</td>\n",
       "      <td>1375</td>\n",
       "    </tr>\n",
       "    <tr>\n",
       "      <th>3</th>\n",
       "      <td>Djurgården</td>\n",
       "      <td>1393</td>\n",
       "    </tr>\n",
       "    <tr>\n",
       "      <th>4</th>\n",
       "      <td>Cukaricki</td>\n",
       "      <td>1249</td>\n",
       "    </tr>\n",
       "    <tr>\n",
       "      <th>5</th>\n",
       "      <td>Widzew</td>\n",
       "      <td>1304</td>\n",
       "    </tr>\n",
       "    <tr>\n",
       "      <th>6</th>\n",
       "      <td>הפועל חיפה</td>\n",
       "      <td>1368</td>\n",
       "    </tr>\n",
       "    <tr>\n",
       "      <th>7</th>\n",
       "      <td>Radomlje</td>\n",
       "      <td>1177</td>\n",
       "    </tr>\n",
       "    <tr>\n",
       "      <th>8</th>\n",
       "      <td>Levski Krumovgrad</td>\n",
       "      <td>1161</td>\n",
       "    </tr>\n",
       "    <tr>\n",
       "      <th>9</th>\n",
       "      <td>Magdeburg</td>\n",
       "      <td>1432</td>\n",
       "    </tr>\n",
       "    <tr>\n",
       "      <th>10</th>\n",
       "      <td>Nijmegen</td>\n",
       "      <td>1480</td>\n",
       "    </tr>\n",
       "    <tr>\n",
       "      <th>11</th>\n",
       "      <td>21 RB Leipzig</td>\n",
       "      <td>1808</td>\n",
       "    </tr>\n",
       "    <tr>\n",
       "      <th>12</th>\n",
       "      <td>39 Lille</td>\n",
       "      <td>1727</td>\n",
       "    </tr>\n",
       "    <tr>\n",
       "      <th>13</th>\n",
       "      <td>Flora Tallinn</td>\n",
       "      <td>1131</td>\n",
       "    </tr>\n",
       "    <tr>\n",
       "      <th>14</th>\n",
       "      <td>Gaziantep FK</td>\n",
       "      <td>1330</td>\n",
       "    </tr>\n",
       "    <tr>\n",
       "      <th>15</th>\n",
       "      <td>Universitatea Cluj</td>\n",
       "      <td>1269</td>\n",
       "    </tr>\n",
       "    <tr>\n",
       "      <th>16</th>\n",
       "      <td>Lecco</td>\n",
       "      <td>1339</td>\n",
       "    </tr>\n",
       "    <tr>\n",
       "      <th>17</th>\n",
       "      <td>ბათუმის დინამო</td>\n",
       "      <td>1178</td>\n",
       "    </tr>\n",
       "    <tr>\n",
       "      <th>18</th>\n",
       "      <td>Waalwijk</td>\n",
       "      <td>1376</td>\n",
       "    </tr>\n",
       "    <tr>\n",
       "      <th>19</th>\n",
       "      <td>Ham-Kam</td>\n",
       "      <td>1290</td>\n",
       "    </tr>\n",
       "  </tbody>\n",
       "</table>\n",
       "</div>"
      ],
      "text/plain": [
       "                  Club   Elo\n",
       "0            Cartagena  1463\n",
       "1              Ajaccio  1432\n",
       "2               Osijek  1375\n",
       "3           Djurgården  1393\n",
       "4            Cukaricki  1249\n",
       "5               Widzew  1304\n",
       "6           הפועל חיפה  1368\n",
       "7             Radomlje  1177\n",
       "8    Levski Krumovgrad  1161\n",
       "9            Magdeburg  1432\n",
       "10            Nijmegen  1480\n",
       "11       21 RB Leipzig  1808\n",
       "12            39 Lille  1727\n",
       "13       Flora Tallinn  1131\n",
       "14        Gaziantep FK  1330\n",
       "15  Universitatea Cluj  1269\n",
       "16               Lecco  1339\n",
       "17      ბათუმის დინამო  1178\n",
       "18            Waalwijk  1376\n",
       "19             Ham-Kam  1290"
      ]
     },
     "execution_count": 38,
     "metadata": {},
     "output_type": "execute_result"
    }
   ],
   "source": [
    "sample"
   ]
  },
  {
   "cell_type": "code",
   "execution_count": 61,
   "id": "5715d5d3",
   "metadata": {},
   "outputs": [],
   "source": [
    "G.clear()\n",
    "\n",
    "for row1 in sample.iterrows():\n",
    "    for row2 in sample.iterrows():\n",
    "        row1_data = row1[1]\n",
    "        row2_data = row2[1]\n",
    "        weight = abs(row1_data.Elo - row2_data.Elo)\n",
    "        \n",
    "        if row1_data.Club != row2_data.Club:\n",
    "            G.add_edge(row1_data.Club, row2_data.Club, weight = weight)"
   ]
  },
  {
   "cell_type": "code",
   "execution_count": 62,
   "id": "fe7e7abc",
   "metadata": {},
   "outputs": [
    {
     "data": {
      "text/plain": [
       "EdgeView([('Cartagena', 'Ajaccio'), ('Cartagena', 'Osijek'), ('Cartagena', 'Djurgården'), ('Cartagena', 'Cukaricki'), ('Cartagena', 'Widzew'), ('Cartagena', 'הפועל חיפה'), ('Cartagena', 'Radomlje'), ('Cartagena', 'Levski Krumovgrad'), ('Cartagena', 'Magdeburg'), ('Cartagena', 'Nijmegen'), ('Cartagena', '21 RB Leipzig'), ('Cartagena', '39 Lille'), ('Cartagena', 'Flora Tallinn'), ('Cartagena', 'Gaziantep FK'), ('Cartagena', 'Universitatea Cluj'), ('Cartagena', 'Lecco'), ('Cartagena', 'ბათუმის დინამო'), ('Cartagena', 'Waalwijk'), ('Cartagena', 'Ham-Kam'), ('Ajaccio', 'Osijek'), ('Ajaccio', 'Djurgården'), ('Ajaccio', 'Cukaricki'), ('Ajaccio', 'Widzew'), ('Ajaccio', 'הפועל חיפה'), ('Ajaccio', 'Radomlje'), ('Ajaccio', 'Levski Krumovgrad'), ('Ajaccio', 'Magdeburg'), ('Ajaccio', 'Nijmegen'), ('Ajaccio', '21 RB Leipzig'), ('Ajaccio', '39 Lille'), ('Ajaccio', 'Flora Tallinn'), ('Ajaccio', 'Gaziantep FK'), ('Ajaccio', 'Universitatea Cluj'), ('Ajaccio', 'Lecco'), ('Ajaccio', 'ბათუმის დინამო'), ('Ajaccio', 'Waalwijk'), ('Ajaccio', 'Ham-Kam'), ('Osijek', 'Djurgården'), ('Osijek', 'Cukaricki'), ('Osijek', 'Widzew'), ('Osijek', 'הפועל חיפה'), ('Osijek', 'Radomlje'), ('Osijek', 'Levski Krumovgrad'), ('Osijek', 'Magdeburg'), ('Osijek', 'Nijmegen'), ('Osijek', '21 RB Leipzig'), ('Osijek', '39 Lille'), ('Osijek', 'Flora Tallinn'), ('Osijek', 'Gaziantep FK'), ('Osijek', 'Universitatea Cluj'), ('Osijek', 'Lecco'), ('Osijek', 'ბათუმის დინამო'), ('Osijek', 'Waalwijk'), ('Osijek', 'Ham-Kam'), ('Djurgården', 'Cukaricki'), ('Djurgården', 'Widzew'), ('Djurgården', 'הפועל חיפה'), ('Djurgården', 'Radomlje'), ('Djurgården', 'Levski Krumovgrad'), ('Djurgården', 'Magdeburg'), ('Djurgården', 'Nijmegen'), ('Djurgården', '21 RB Leipzig'), ('Djurgården', '39 Lille'), ('Djurgården', 'Flora Tallinn'), ('Djurgården', 'Gaziantep FK'), ('Djurgården', 'Universitatea Cluj'), ('Djurgården', 'Lecco'), ('Djurgården', 'ბათუმის დინამო'), ('Djurgården', 'Waalwijk'), ('Djurgården', 'Ham-Kam'), ('Cukaricki', 'Widzew'), ('Cukaricki', 'הפועל חיפה'), ('Cukaricki', 'Radomlje'), ('Cukaricki', 'Levski Krumovgrad'), ('Cukaricki', 'Magdeburg'), ('Cukaricki', 'Nijmegen'), ('Cukaricki', '21 RB Leipzig'), ('Cukaricki', '39 Lille'), ('Cukaricki', 'Flora Tallinn'), ('Cukaricki', 'Gaziantep FK'), ('Cukaricki', 'Universitatea Cluj'), ('Cukaricki', 'Lecco'), ('Cukaricki', 'ბათუმის დინამო'), ('Cukaricki', 'Waalwijk'), ('Cukaricki', 'Ham-Kam'), ('Widzew', 'הפועל חיפה'), ('Widzew', 'Radomlje'), ('Widzew', 'Levski Krumovgrad'), ('Widzew', 'Magdeburg'), ('Widzew', 'Nijmegen'), ('Widzew', '21 RB Leipzig'), ('Widzew', '39 Lille'), ('Widzew', 'Flora Tallinn'), ('Widzew', 'Gaziantep FK'), ('Widzew', 'Universitatea Cluj'), ('Widzew', 'Lecco'), ('Widzew', 'ბათუმის დინამო'), ('Widzew', 'Waalwijk'), ('Widzew', 'Ham-Kam'), ('הפועל חיפה', 'Radomlje'), ('הפועל חיפה', 'Levski Krumovgrad'), ('הפועל חיפה', 'Magdeburg'), ('הפועל חיפה', 'Nijmegen'), ('הפועל חיפה', '21 RB Leipzig'), ('הפועל חיפה', '39 Lille'), ('הפועל חיפה', 'Flora Tallinn'), ('הפועל חיפה', 'Gaziantep FK'), ('הפועל חיפה', 'Universitatea Cluj'), ('הפועל חיפה', 'Lecco'), ('הפועל חיפה', 'ბათუმის დინამო'), ('הפועל חיפה', 'Waalwijk'), ('הפועל חיפה', 'Ham-Kam'), ('Radomlje', 'Levski Krumovgrad'), ('Radomlje', 'Magdeburg'), ('Radomlje', 'Nijmegen'), ('Radomlje', '21 RB Leipzig'), ('Radomlje', '39 Lille'), ('Radomlje', 'Flora Tallinn'), ('Radomlje', 'Gaziantep FK'), ('Radomlje', 'Universitatea Cluj'), ('Radomlje', 'Lecco'), ('Radomlje', 'ბათუმის დინამო'), ('Radomlje', 'Waalwijk'), ('Radomlje', 'Ham-Kam'), ('Levski Krumovgrad', 'Magdeburg'), ('Levski Krumovgrad', 'Nijmegen'), ('Levski Krumovgrad', '21 RB Leipzig'), ('Levski Krumovgrad', '39 Lille'), ('Levski Krumovgrad', 'Flora Tallinn'), ('Levski Krumovgrad', 'Gaziantep FK'), ('Levski Krumovgrad', 'Universitatea Cluj'), ('Levski Krumovgrad', 'Lecco'), ('Levski Krumovgrad', 'ბათუმის დინამო'), ('Levski Krumovgrad', 'Waalwijk'), ('Levski Krumovgrad', 'Ham-Kam'), ('Magdeburg', 'Nijmegen'), ('Magdeburg', '21 RB Leipzig'), ('Magdeburg', '39 Lille'), ('Magdeburg', 'Flora Tallinn'), ('Magdeburg', 'Gaziantep FK'), ('Magdeburg', 'Universitatea Cluj'), ('Magdeburg', 'Lecco'), ('Magdeburg', 'ბათუმის დინამო'), ('Magdeburg', 'Waalwijk'), ('Magdeburg', 'Ham-Kam'), ('Nijmegen', '21 RB Leipzig'), ('Nijmegen', '39 Lille'), ('Nijmegen', 'Flora Tallinn'), ('Nijmegen', 'Gaziantep FK'), ('Nijmegen', 'Universitatea Cluj'), ('Nijmegen', 'Lecco'), ('Nijmegen', 'ბათუმის დინამო'), ('Nijmegen', 'Waalwijk'), ('Nijmegen', 'Ham-Kam'), ('21 RB Leipzig', '39 Lille'), ('21 RB Leipzig', 'Flora Tallinn'), ('21 RB Leipzig', 'Gaziantep FK'), ('21 RB Leipzig', 'Universitatea Cluj'), ('21 RB Leipzig', 'Lecco'), ('21 RB Leipzig', 'ბათუმის დინამო'), ('21 RB Leipzig', 'Waalwijk'), ('21 RB Leipzig', 'Ham-Kam'), ('39 Lille', 'Flora Tallinn'), ('39 Lille', 'Gaziantep FK'), ('39 Lille', 'Universitatea Cluj'), ('39 Lille', 'Lecco'), ('39 Lille', 'ბათუმის დინამო'), ('39 Lille', 'Waalwijk'), ('39 Lille', 'Ham-Kam'), ('Flora Tallinn', 'Gaziantep FK'), ('Flora Tallinn', 'Universitatea Cluj'), ('Flora Tallinn', 'Lecco'), ('Flora Tallinn', 'ბათუმის დინამო'), ('Flora Tallinn', 'Waalwijk'), ('Flora Tallinn', 'Ham-Kam'), ('Gaziantep FK', 'Universitatea Cluj'), ('Gaziantep FK', 'Lecco'), ('Gaziantep FK', 'ბათუმის დინამო'), ('Gaziantep FK', 'Waalwijk'), ('Gaziantep FK', 'Ham-Kam'), ('Universitatea Cluj', 'Lecco'), ('Universitatea Cluj', 'ბათუმის დინამო'), ('Universitatea Cluj', 'Waalwijk'), ('Universitatea Cluj', 'Ham-Kam'), ('Lecco', 'ბათუმის დინამო'), ('Lecco', 'Waalwijk'), ('Lecco', 'Ham-Kam'), ('ბათუმის დინამო', 'Waalwijk'), ('ბათუმის დინამო', 'Ham-Kam'), ('Waalwijk', 'Ham-Kam')])"
      ]
     },
     "execution_count": 62,
     "metadata": {},
     "output_type": "execute_result"
    }
   ],
   "source": [
    "G.edges()"
   ]
  },
  {
   "cell_type": "code",
   "execution_count": 63,
   "id": "7634abd0",
   "metadata": {},
   "outputs": [
    {
     "data": {
      "text/plain": [
       "{'weight': 86}"
      ]
     },
     "execution_count": 63,
     "metadata": {},
     "output_type": "execute_result"
    }
   ],
   "source": [
    "G['Waalwijk']['Ham-Kam']"
   ]
  },
  {
   "cell_type": "code",
   "execution_count": 67,
   "id": "65759c37",
   "metadata": {},
   "outputs": [
    {
     "data": {
      "text/plain": [
       "{('21 RB Leipzig', '39 Lille'),\n",
       " ('Cartagena', 'Nijmegen'),\n",
       " ('Cukaricki', 'Universitatea Cluj'),\n",
       " ('Gaziantep FK', 'Lecco'),\n",
       " ('Levski Krumovgrad', 'Flora Tallinn'),\n",
       " ('Magdeburg', 'Ajaccio'),\n",
       " ('Osijek', 'הפועל חיפה'),\n",
       " ('Waalwijk', 'Djurgården'),\n",
       " ('Widzew', 'Ham-Kam'),\n",
       " ('ბათუმის დინამო', 'Radomlje')}"
      ]
     },
     "execution_count": 67,
     "metadata": {},
     "output_type": "execute_result"
    }
   ],
   "source": [
    "nx.algorithms.matching.min_weight_matching(G)"
   ]
  },
  {
   "cell_type": "code",
   "execution_count": null,
   "id": "892d0679",
   "metadata": {},
   "outputs": [],
   "source": []
  }
 ],
 "metadata": {
  "kernelspec": {
   "display_name": "Python 3 (ipykernel)",
   "language": "python",
   "name": "python3"
  },
  "language_info": {
   "codemirror_mode": {
    "name": "ipython",
    "version": 3
   },
   "file_extension": ".py",
   "mimetype": "text/x-python",
   "name": "python",
   "nbconvert_exporter": "python",
   "pygments_lexer": "ipython3",
   "version": "3.11.3"
  }
 },
 "nbformat": 4,
 "nbformat_minor": 5
}
