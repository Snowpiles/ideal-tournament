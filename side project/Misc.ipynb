{
 "cells": [
  {
   "cell_type": "code",
   "execution_count": 1,
   "id": "1dbfb20c",
   "metadata": {},
   "outputs": [],
   "source": [
    "from itertools import permutations"
   ]
  },
  {
   "cell_type": "code",
   "execution_count": 2,
   "id": "901b278f",
   "metadata": {},
   "outputs": [],
   "source": [
    "perms = ['home_only','away_only',None]"
   ]
  },
  {
   "cell_type": "code",
   "execution_count": 9,
   "id": "32aa74a9",
   "metadata": {},
   "outputs": [],
   "source": [
    "home_away_permutations = list(permutations(perms, 2))"
   ]
  },
  {
   "cell_type": "code",
   "execution_count": 10,
   "id": "69d518f3",
   "metadata": {},
   "outputs": [],
   "source": [
    "permutations_dict = {}"
   ]
  },
  {
   "cell_type": "code",
   "execution_count": 11,
   "id": "7ab176ad",
   "metadata": {},
   "outputs": [
    {
     "data": {
      "text/plain": [
       "('home_only', 'away_only')"
      ]
     },
     "execution_count": 11,
     "metadata": {},
     "output_type": "execute_result"
    }
   ],
   "source": [
    "home_away_permutations[0]"
   ]
  }
 ],
 "metadata": {
  "kernelspec": {
   "display_name": "Python 3 (ipykernel)",
   "language": "python",
   "name": "python3"
  },
  "language_info": {
   "codemirror_mode": {
    "name": "ipython",
    "version": 3
   },
   "file_extension": ".py",
   "mimetype": "text/x-python",
   "name": "python",
   "nbconvert_exporter": "python",
   "pygments_lexer": "ipython3",
   "version": "3.11.3"
  }
 },
 "nbformat": 4,
 "nbformat_minor": 5
}
