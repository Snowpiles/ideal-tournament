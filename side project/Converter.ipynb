{
 "cells": [
  {
   "cell_type": "code",
   "execution_count": 5,
   "id": "078b5413",
   "metadata": {},
   "outputs": [],
   "source": [
    "pip install p2j"
   ]
  },
  {
   "cell_type": "code",
   "execution_count": 6,
   "id": "f20e7638",
   "metadata": {},
   "outputs": [],
   "source": [
    "import p2j"
   ]
  },
  {
   "cell_type": "code",
   "execution_count": 9,
   "id": "60fda3bb",
   "metadata": {},
   "outputs": [],
   "source": [
    "p2j?"
   ]
  }
 ],
 "metadata": {
  "kernelspec": {
   "display_name": "Python 3 (ipykernel)",
   "language": "python",
   "name": "python3"
  },
  "language_info": {
   "codemirror_mode": {
    "name": "ipython",
    "version": 3
   },
   "file_extension": ".py",
   "mimetype": "text/x-python",
   "name": "python",
   "nbconvert_exporter": "python",
   "pygments_lexer": "ipython3",
   "version": "3.11.3"
  }
 },
 "nbformat": 4,
 "nbformat_minor": 5
}
